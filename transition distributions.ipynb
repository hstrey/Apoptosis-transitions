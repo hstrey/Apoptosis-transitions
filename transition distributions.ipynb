{
 "cells": [
  {
   "cell_type": "code",
   "execution_count": 1,
   "metadata": {},
   "outputs": [],
   "source": [
    "%matplotlib inline\n",
    "import numpy as np\n",
    "import pandas as pd\n",
    "import matplotlib.pyplot as plt"
   ]
  },
  {
   "cell_type": "code",
   "execution_count": 2,
   "metadata": {},
   "outputs": [],
   "source": [
    "data = pd.read_pickle(\"data/2018-08-01–115444_event_times.pickle.xz\")"
   ]
  },
  {
   "cell_type": "code",
   "execution_count": 15,
   "metadata": {},
   "outputs": [
    {
     "name": "stderr",
     "output_type": "stream",
     "text": [
      "/Users/hstrey/anaconda3/lib/python3.6/site-packages/ipykernel_launcher.py:1: UserWarning: Boolean Series key will be reindexed to match DataFrame index.\n",
      "  \"\"\"Entry point for launching an IPython kernel.\n"
     ]
    },
    {
     "data": {
      "text/plain": [
       "(array([  1.,   1.,   1.,   4.,   1.,   0.,   3.,   1.,   2.,   9.,  11.,\n",
       "         44., 217., 286., 272., 194., 125.,  76.,  54.,  40.,  18.,  14.,\n",
       "         10.,   7.,   5.,   4.,   1.,   2.,   3.,   4.]),\n",
       " array([-17.2202 , -15.88475, -14.5493 , -13.21385, -11.8784 , -10.54295,\n",
       "         -9.2075 ,  -7.87205,  -6.5366 ,  -5.20115,  -3.8657 ,  -2.53025,\n",
       "         -1.1948 ,   0.14065,   1.4761 ,   2.81155,   4.147  ,   5.48245,\n",
       "          6.8179 ,   8.15335,   9.4888 ,  10.82425,  12.1597 ,  13.49515,\n",
       "         14.8306 ,  16.16605,  17.5015 ,  18.83695,  20.1724 ,  21.50785,\n",
       "         22.8433 ]),\n",
       " <a list of 30 Patch objects>)"
      ]
     },
     "execution_count": 15,
     "metadata": {},
     "output_type": "execute_result"
    },
    {
     "data": {
      "image/png": "[encoded data removed]",
      "text/plain": [
       "<Figure size 432x288 with 1 Axes>"
      ]
     },
     "metadata": {},
     "output_type": "display_data"
    }
   ],
   "source": [
    "tmrm_ros_delay = np.array(data[data.marker1==\"ros\"][data.marker0==\"tmrm\"][\"delay\"])\n",
    "tmrm_ros_delay = tmrm_ros_delay[np.logical_not(np.isnan(tmrm_ros_delay))]\n",
    "plt.hist(tmrm_ros_delay,bins=30)"
   ]
  },
  {
   "cell_type": "code",
   "execution_count": null,
   "metadata": {},
   "outputs": [],
   "source": []
  }
 ],
 "metadata": {
  "kernelspec": {
   "display_name": "Python 3",
   "language": "python",
   "name": "python3"
  },
  "language_info": {
   "codemirror_mode": {
    "name": "ipython",
    "version": 3
   },
   "file_extension": ".py",
   "mimetype": "text/x-python",
   "name": "python",
   "nbconvert_exporter": "python",
   "pygments_lexer": "ipython3",
   "version": "3.6.5"
  }
 },
 "nbformat": 4,
 "nbformat_minor": 2
}
